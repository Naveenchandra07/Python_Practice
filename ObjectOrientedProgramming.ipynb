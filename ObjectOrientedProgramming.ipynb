{
 "cells": [
  {
   "cell_type": "code",
   "execution_count": 1,
   "metadata": {},
   "outputs": [],
   "source": [
    "#Class definitation\n",
    "class DataScienceTutorial:\n",
    "    var_maths = \"Maths\"\n",
    "    var_python = \"Python\""
   ]
  },
  {
   "cell_type": "code",
   "execution_count": 2,
   "metadata": {},
   "outputs": [
    {
     "name": "stdout",
     "output_type": "stream",
     "text": [
      "<__main__.DataScienceTutorial object at 0x000001C378A926A0>\n"
     ]
    }
   ],
   "source": [
    "#Object of class DataScienceTutorial\n",
    "ds_tutorial = DataScienceTutorial()\n",
    "print(ds_tutorial)"
   ]
  },
  {
   "cell_type": "code",
   "execution_count": 3,
   "metadata": {},
   "outputs": [
    {
     "name": "stdout",
     "output_type": "stream",
     "text": [
      "Maths\n",
      "Python\n",
      "Maths for DataScience\n"
     ]
    }
   ],
   "source": [
    "#Accessing variables of DataScienceTutorial\n",
    "print(DataScienceTutorial.var_maths)\n",
    "print(DataScienceTutorial.var_python)\n",
    "\n",
    "#Changing variable information\n",
    "DataScienceTutorial.var_maths = \"Maths for DataScience\"\n",
    "\n",
    "print(DataScienceTutorial.var_maths)"
   ]
  },
  {
   "cell_type": "code",
   "execution_count": 4,
   "metadata": {},
   "outputs": [
    {
     "name": "stdout",
     "output_type": "stream",
     "text": [
      "[1]\n",
      "[1]\n",
      "[1]\n",
      "[]\n"
     ]
    }
   ],
   "source": [
    "#Class vs Instance variables\n",
    "\n",
    "class ClassVariableExample:\n",
    "  class_var_list = []\n",
    "\n",
    "classvar_example_a = ClassVariableExample()\n",
    "classvar_example_a.class_var_list.append(1)\n",
    "\n",
    "classvar_example_b = ClassVariableExample()\n",
    "\n",
    "print(classvar_example_a.class_var_list)\n",
    "print(classvar_example_b.class_var_list)\n",
    "\n",
    "class InstanceVariableExample:\n",
    "      \n",
    "    def __init__(self):\n",
    "        self.instance_var_list = []\n",
    "\n",
    "instancevar_example_a = InstanceVariableExample()\n",
    "instancevar_example_a.instance_var_list.append(1)\n",
    "\n",
    "instancevar_example_b = InstanceVariableExample()\n",
    "\n",
    "print(instancevar_example_a.instance_var_list)\n",
    "print(instancevar_example_b.instance_var_list)"
   ]
  },
  {
   "cell_type": "code",
   "execution_count": 5,
   "metadata": {},
   "outputs": [],
   "source": [
    "#Global vs local variable\n",
    "\n",
    "var_global = \"Global Variable\"\n",
    "\n",
    "def globalVariableFunction():\n",
    "    global var_global\n",
    "    print(var_global)\n",
    "    var_global = \"Changed Global Variable\"\n",
    "    var_local = \"Local Variable\"\n",
    "    print(var_local)\n"
   ]
  },
  {
   "cell_type": "code",
   "execution_count": 6,
   "metadata": {},
   "outputs": [
    {
     "name": "stdout",
     "output_type": "stream",
     "text": [
      "Global Variable\n",
      "Local Variable\n",
      "Changed Global Variable\n"
     ]
    }
   ],
   "source": [
    "globalVariableFunction()\n",
    "print(var_global)"
   ]
  },
  {
   "cell_type": "code",
   "execution_count": 8,
   "metadata": {},
   "outputs": [],
   "source": [
    "#init method\n",
    "class DataScienceTutorial:\n",
    "    def __init__(self, input_maths, input_python, default_var=\"Default Value\"):\n",
    "        print(\"In init of DataScienceTutorial\")\n",
    "        self.input_maths = input_maths\n",
    "        self.input_python = input_python\n",
    "        self.default_var = default_var\n",
    "    \n",
    "    def print_inputs(self):\n",
    "        print(\"Input provided for input_maths variable -> \" + self.input_maths)\n",
    "        print(\"Input provided for input_python variable -> \" + self.input_python)\n",
    "        print(\"Input provided for default variable -> \" + self.default_var)"
   ]
  },
  {
   "cell_type": "code",
   "execution_count": 9,
   "metadata": {},
   "outputs": [
    {
     "name": "stdout",
     "output_type": "stream",
     "text": [
      "In init of DataScienceTutorial\n",
      "Input provided for input_maths variable -> Maths\n",
      "Input provided for input_python variable -> Python\n",
      "Input provided for default variable -> Default Value\n",
      "In init of DataScienceTutorial\n",
      "Input provided for input_maths variable -> Maths 1\n",
      "Input provided for input_python variable -> Python 2\n",
      "Input provided for default variable -> Not Default!\n"
     ]
    }
   ],
   "source": [
    "dsTutorial = DataScienceTutorial(\"Maths\", \"Python\")\n",
    "dsTutorial.print_inputs()\n",
    "dsTutorial = DataScienceTutorial(\"Maths 1\", \"Python 2\", \"Not Default!\")\n",
    "dsTutorial.print_inputs()"
   ]
  },
  {
   "cell_type": "code",
   "execution_count": 10,
   "metadata": {},
   "outputs": [],
   "source": [
    "#Examples of different types methods.\n",
    "\n",
    "class MethodsExample:\n",
    "    \n",
    "    ff = \"ss\"\n",
    "    \n",
    "    def __init__(self):\n",
    "        print(\"In init of MethodsExample\")\n",
    "        \n",
    "    def instanceMethod(self):\n",
    "        ff = \"sww\"\n",
    "        print(\"In instance method of MethodsExample\")\n",
    "    \n",
    "    def inf(self):\n",
    "        print(ff)\n",
    "    \n",
    "    @classmethod\n",
    "    def classMethod(cls):\n",
    "        print(\"In class method of MethodsExample\")\n",
    "        \n",
    "    @staticmethod\n",
    "    def staticMethod():\n",
    "        print(\"In static method of MethodsExample\")"
   ]
  },
  {
   "cell_type": "code",
   "execution_count": 11,
   "metadata": {},
   "outputs": [
    {
     "name": "stdout",
     "output_type": "stream",
     "text": [
      "In init of MethodsExample\n",
      "In instance method of MethodsExample\n",
      "In class method of MethodsExample\n",
      "In static method of MethodsExample\n"
     ]
    }
   ],
   "source": [
    "methodsExample = MethodsExample()\n",
    "\n",
    "methodsExample.instanceMethod()\n",
    "methodsExample.classMethod()\n",
    "\n",
    "MethodsExample.staticMethod()"
   ]
  },
  {
   "cell_type": "code",
   "execution_count": 12,
   "metadata": {},
   "outputs": [],
   "source": [
    "#Inner class example\n",
    "class OuterClass:\n",
    "    \n",
    "    def __init__(self):\n",
    "        self.var_outer = \"Outer class variable\"\n",
    "        self.innerclass = self.InnerClass()\n",
    "        \n",
    "    class InnerClass:\n",
    "        \n",
    "        def __init__(self):\n",
    "            self.var_inner = \"Inner class variable\"\n"
   ]
  },
  {
   "cell_type": "code",
   "execution_count": 13,
   "metadata": {},
   "outputs": [
    {
     "name": "stdout",
     "output_type": "stream",
     "text": [
      "Outer class variable\n",
      "Inner class variable\n"
     ]
    }
   ],
   "source": [
    "print(OuterClass().var_outer)\n",
    "print(OuterClass().innerclass.var_inner)"
   ]
  },
  {
   "cell_type": "code",
   "execution_count": 14,
   "metadata": {},
   "outputs": [],
   "source": [
    "#Inheritance Example\n",
    "\n",
    "class ParentClass:\n",
    "    \n",
    "    def __init__(self):\n",
    "        print(\"In init of ParentClass\")\n",
    "        \n",
    "    def parentClassMethod(self):\n",
    "        print(\"In method parentClassMethod of class ParentClass\")\n",
    "        \n",
    "class ChildClass(ParentClass):\n",
    "    \n",
    "    def __init__(self):\n",
    "        print(\"In init of ChildClass\")\n",
    "        \n",
    "    def childClassMethod(self):\n",
    "        print(\"In method childClassMethod of class ChildClass\")"
   ]
  },
  {
   "cell_type": "code",
   "execution_count": 15,
   "metadata": {},
   "outputs": [
    {
     "name": "stdout",
     "output_type": "stream",
     "text": [
      "In init of ParentClass\n",
      "In method parentClassMethod of class ParentClass\n"
     ]
    }
   ],
   "source": [
    "parentClass = ParentClass()\n",
    "parentClass.parentClassMethod()"
   ]
  },
  {
   "cell_type": "code",
   "execution_count": 16,
   "metadata": {},
   "outputs": [
    {
     "name": "stdout",
     "output_type": "stream",
     "text": [
      "In init of ChildClass\n",
      "In method childClassMethod of class ChildClass\n",
      "In method parentClassMethod of class ParentClass\n"
     ]
    }
   ],
   "source": [
    "childClass = ChildClass()\n",
    "childClass.childClassMethod()\n",
    "childClass.parentClassMethod()"
   ]
  },
  {
   "cell_type": "code",
   "execution_count": 17,
   "metadata": {},
   "outputs": [],
   "source": [
    "#Multilevel Inheritance Example\n",
    "\n",
    "class SecondChildClass(ChildClass):\n",
    "    \n",
    "    def __init__(self):\n",
    "        print(\"In init of SecondChildClass\")\n",
    "        \n",
    "    def secondChildClassMethod(self):\n",
    "        print(\"In method secondChildClassMethod of class SecondChildClass\")"
   ]
  },
  {
   "cell_type": "code",
   "execution_count": 18,
   "metadata": {},
   "outputs": [
    {
     "name": "stdout",
     "output_type": "stream",
     "text": [
      "In init of SecondChildClass\n",
      "In method secondChildClassMethod of class SecondChildClass\n",
      "In method childClassMethod of class ChildClass\n",
      "In method parentClassMethod of class ParentClass\n"
     ]
    }
   ],
   "source": [
    "secondChildClass = SecondChildClass()\n",
    "secondChildClass.secondChildClassMethod()\n",
    "secondChildClass.childClassMethod()\n",
    "secondChildClass.parentClassMethod()"
   ]
  },
  {
   "cell_type": "code",
   "execution_count": 19,
   "metadata": {},
   "outputs": [],
   "source": [
    "#Multiple Inheritance\n",
    "\n",
    "class AnotherChildOfParent(ParentClass):\n",
    "    \n",
    "    def __init__(self):\n",
    "        print(\"In init of SecondChildClass\")\n",
    "        \n",
    "    def childClassMethod(self):\n",
    "        print(\"In method childClassMethod of class ChildClass\")\n",
    "        \n",
    "    def anotherChildClassMethod(self):\n",
    "        print(\"In method anotherChildClassMethod of class AnotherChildOfParent\")"
   ]
  },
  {
   "cell_type": "code",
   "execution_count": 22,
   "metadata": {},
   "outputs": [],
   "source": [
    "class SecondChildClass(ChildClass, AnotherChildOfParent):\n",
    "    \n",
    "    def __init__(self):\n",
    "        print(\"In init of SecondChildClass\")\n",
    "        super().__init__()\n",
    "        \n",
    "    def secondChildClassMethod(self):\n",
    "        print(\"In method secondChildClassMethod of class SecondChildClass\")"
   ]
  },
  {
   "cell_type": "code",
   "execution_count": 23,
   "metadata": {},
   "outputs": [
    {
     "name": "stdout",
     "output_type": "stream",
     "text": [
      "In init of SecondChildClass\n",
      "In init of ChildClass\n",
      "In method secondChildClassMethod of class SecondChildClass\n",
      "In method childClassMethod of class ChildClass\n",
      "In method anotherChildClassMethod of class AnotherChildOfParent\n",
      "In method parentClassMethod of class ParentClass\n"
     ]
    }
   ],
   "source": [
    "secondChildClass = SecondChildClass()\n",
    "secondChildClass.secondChildClassMethod()\n",
    "secondChildClass.childClassMethod()\n",
    "secondChildClass.anotherChildClassMethod()\n",
    "secondChildClass.parentClassMethod()"
   ]
  },
  {
   "cell_type": "code",
   "execution_count": null,
   "metadata": {},
   "outputs": [],
   "source": []
  }
 ],
 "metadata": {
  "kernelspec": {
   "display_name": "Python 3",
   "language": "python",
   "name": "python3"
  },
  "language_info": {
   "codemirror_mode": {
    "name": "ipython",
    "version": 3
   },
   "file_extension": ".py",
   "mimetype": "text/x-python",
   "name": "python",
   "nbconvert_exporter": "python",
   "pygments_lexer": "ipython3",
   "version": "3.7.3"
  }
 },
 "nbformat": 4,
 "nbformat_minor": 2
}
